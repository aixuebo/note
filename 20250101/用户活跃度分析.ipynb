{
 "cells": [
  {
   "cell_type": "code",
   "execution_count": 1,
   "metadata": {},
   "outputs": [
    {
     "name": "stderr",
     "output_type": "stream",
     "text": [
      "/Library/Frameworks/Python.framework/Versions/3.9/lib/python3.9/site-packages/openpyxl/styles/stylesheet.py:221: UserWarning: Workbook contains no default style, apply openpyxl's default\n",
      "  warn(\"Workbook contains no default style, apply openpyxl's default\")\n"
     ]
    }
   ],
   "source": [
    "import pandas as pd\n",
    "from graphviz import Digraph\n",
    "df = pd.read_excel('SQL取数.xlsx')\n",
    "edges_df = pd.read_excel('节点.xlsx')"
   ]
  },
  {
   "cell_type": "code",
   "execution_count": 2,
   "metadata": {},
   "outputs": [],
   "source": [
    "df = df.append({'metric_name': '1-CURR', 'metric_value': 100 - df.loc[df['metric_name'] == 'CURR', 'metric_value'].values[0]}, ignore_index=True)\n",
    "df = df.append({'metric_name': '1-RURR', 'metric_value': 100 - df.loc[df['metric_name'] == 'RURR', 'metric_value'].values[0]}, ignore_index=True)\n",
    "df = df.append({'metric_name': '1-SURR', 'metric_value': 100 - df.loc[df['metric_name'] == 'SURR', 'metric_value'].values[0]}, ignore_index=True)\n",
    "df = df.append({'metric_name': '1-NURR', 'metric_value': 100 - df.loc[df['metric_name'] == 'NURR', 'metric_value'].values[0]}, ignore_index=True)"
   ]
  },
  {
   "cell_type": "code",
   "execution_count": 3,
   "metadata": {},
   "outputs": [],
   "source": [
    "replace_dict = {\n",
    "    'current_user': '当前用户',\n",
    "    'reactivated_user': '重新激活用户',\n",
    "    'resurrected_user': '复活用户',\n",
    "    'new_user': '新用户',\n",
    "    'at_risk_waus': '周活跃用户流失风险',\n",
    "    'at_risk_maus': '月活跃用户流失风险',\n",
    "    'dead_users': '流失用户'\n",
    "}\n",
    "\n",
    "# 使用replace方法进行替换\n",
    "df['metric_name'] = df['metric_name'].replace(replace_dict)"
   ]
  },
  {
   "cell_type": "code",
   "execution_count": 4,
   "metadata": {},
   "outputs": [],
   "source": [
    "nodes_df = df[df['metric_name'].isin(['当前用户','重新激活用户','复活用户','新用户','周活跃用户流失风险','月活跃用户流失风险','流失用户'])]"
   ]
  },
  {
   "cell_type": "code",
   "execution_count": 5,
   "metadata": {},
   "outputs": [
    {
     "name": "stderr",
     "output_type": "stream",
     "text": [
      "/Library/Frameworks/Python.framework/Versions/3.9/lib/python3.9/site-packages/pandas/core/indexing.py:1599: SettingWithCopyWarning: \n",
      "A value is trying to be set on a copy of a slice from a DataFrame.\n",
      "Try using .loc[row_indexer,col_indexer] = value instead\n",
      "\n",
      "See the caveats in the documentation: https://pandas.pydata.org/pandas-docs/stable/user_guide/indexing.html#returning-a-view-versus-a-copy\n",
      "  self.obj[key] = infer_fill_value(value)\n",
      "/Library/Frameworks/Python.framework/Versions/3.9/lib/python3.9/site-packages/pandas/core/indexing.py:1720: SettingWithCopyWarning: \n",
      "A value is trying to be set on a copy of a slice from a DataFrame.\n",
      "Try using .loc[row_indexer,col_indexer] = value instead\n",
      "\n",
      "See the caveats in the documentation: https://pandas.pydata.org/pandas-docs/stable/user_guide/indexing.html#returning-a-view-versus-a-copy\n",
      "  self._setitem_single_column(loc, value, pi)\n"
     ]
    }
   ],
   "source": [
    "nodes_df.loc[nodes_df['metric_name']=='当前用户', '备注'] = '(今日活跃且过去7天内至少活跃1次)'\n",
    "nodes_df.loc[nodes_df['metric_name']=='重新激活用户', '备注'] = '(首次回访)'\n",
    "nodes_df.loc[nodes_df['metric_name']=='复活用户', '备注'] = '(首次回访)'\n",
    "nodes_df.loc[nodes_df['metric_name']=='新用户', '备注'] = '(首次使用应用)'\n",
    "nodes_df.loc[nodes_df['metric_name']=='周活跃用户流失风险', '备注'] = '(今日不活跃，但过去1-6天活跃)'\n",
    "nodes_df.loc[nodes_df['metric_name']=='月活跃用户流失风险', '备注'] = '(今日不活跃，过去1-6天不活跃，但过去7-29天活跃)'\n",
    "nodes_df.loc[nodes_df['metric_name']=='流失用户', '备注'] = '(今日及过去29天不活跃)'"
   ]
  },
  {
   "cell_type": "code",
   "execution_count": 6,
   "metadata": {},
   "outputs": [
    {
     "name": "stderr",
     "output_type": "stream",
     "text": [
      "/Library/Frameworks/Python.framework/Versions/3.9/lib/python3.9/site-packages/pandas/core/frame.py:4441: SettingWithCopyWarning: \n",
      "A value is trying to be set on a copy of a slice from a DataFrame\n",
      "\n",
      "See the caveats in the documentation: https://pandas.pydata.org/pandas-docs/stable/user_guide/indexing.html#returning-a-view-versus-a-copy\n",
      "  return super().rename(\n",
      "/var/folders/dt/gvr9w7tj7zjbg79hbttt_ws40000gn/T/ipykernel_54496/2119995021.py:2: SettingWithCopyWarning: \n",
      "A value is trying to be set on a copy of a slice from a DataFrame.\n",
      "Try using .loc[row_indexer,col_indexer] = value instead\n",
      "\n",
      "See the caveats in the documentation: https://pandas.pydata.org/pandas-docs/stable/user_guide/indexing.html#returning-a-view-versus-a-copy\n",
      "  nodes_df['数据']=nodes_df['数据'].astype(int)\n"
     ]
    }
   ],
   "source": [
    "nodes_df.rename(columns={'metric_name':'节点','metric_value':'数据'},inplace=True)\n",
    "nodes_df['数据']=nodes_df['数据'].astype(int)"
   ]
  },
  {
   "cell_type": "code",
   "execution_count": 7,
   "metadata": {},
   "outputs": [],
   "source": [
    "edges_df = edges_df.merge(df,how='left',on='metric_name')\n",
    "edges_df['指标'] = edges_df['metric_name'].astype(str)+':'+edges_df['metric_value'].astype(str)+'%'"
   ]
  },
  {
   "cell_type": "code",
   "execution_count": 8,
   "metadata": {},
   "outputs": [
    {
     "data": {
      "text/plain": [
       "'/Volumes/文枢工作空间/资产配置/新开城旧车交付/复盘/user_activity_analysis.png.png'"
      ]
     },
     "execution_count": 8,
     "metadata": {},
     "output_type": "execute_result"
    }
   ],
   "source": [
    "dot = Digraph(comment='用户活跃度分析', engine='dot')\n",
    "#dot.attr(splines='ortho')  # 设置连接线为直线\n",
    "# 定义节点颜色（可选）\n",
    "node_colors = {\n",
    "    '重新激活用户': 'lightgreen',\n",
    "    '新用户': 'lightgreen',\n",
    "    '复活用户': 'lightgreen',\n",
    "    '当前用户': 'lightblue',\n",
    "    '周活跃用户流失风险': 'lightcoral',\n",
    "    '月活跃用户流失风险': 'lightsalmon',\n",
    "    '流失用户': 'lavender'\n",
    "}\n",
    "\n",
    "# 创建子图以固定节点位置\n",
    "with dot.subgraph() as s:\n",
    "    s.attr(rank='same')\n",
    "    for node in ['重新激活用户', '新用户', '复活用户']:\n",
    "        label = f\"{node}\\n{nodes_df[nodes_df['节点'] == node]['备注'].values[0]}\\n{nodes_df[nodes_df['节点'] == node]['数据'].values[0]}\"\n",
    "        color = node_colors.get(node, 'white')\n",
    "        s.node(node, label, shape='box', style='filled', fillcolor=color)\n",
    "\n",
    "with dot.subgraph() as s:\n",
    "    s.attr(rank='same')\n",
    "    for node in ['当前用户']:\n",
    "        label = f\"{node}\\n{nodes_df[nodes_df['节点'] == node]['备注'].values[0]}\\n{nodes_df[nodes_df['节点'] == node]['数据'].values[0]}\"\n",
    "        color = node_colors.get(node, 'white')\n",
    "        s.node(node, label, shape='box', style='filled', fillcolor=color)\n",
    "\n",
    "with dot.subgraph() as s:\n",
    "    s.attr(rank='same')\n",
    "    for node in ['周活跃用户流失风险']:\n",
    "        label = f\"{node}\\n{nodes_df[nodes_df['节点'] == node]['备注'].values[0]}\\n{nodes_df[nodes_df['节点'] == node]['数据'].values[0]}\"\n",
    "        color = node_colors.get(node, 'white')\n",
    "        s.node(node, label, shape='box', style='filled', fillcolor=color)\n",
    "\n",
    "with dot.subgraph() as s:\n",
    "    s.attr(rank='same')\n",
    "    for node in ['月活跃用户流失风险']:\n",
    "        label = f\"{node}\\n{nodes_df[nodes_df['节点'] == node]['备注'].values[0]}\\n{nodes_df[nodes_df['节点'] == node]['数据'].values[0]}\"\n",
    "        color = node_colors.get(node, 'white')\n",
    "        s.node(node, label, shape='box', style='filled', fillcolor=color)\n",
    "\n",
    "with dot.subgraph() as s:\n",
    "    s.attr(rank='same')\n",
    "    for node in ['流失用户']:\n",
    "        label = f\"{node}\\n{nodes_df[nodes_df['节点'] == node]['备注'].values[0]}\\n{nodes_df[nodes_df['节点'] == node]['数据'].values[0]}\"\n",
    "        color = node_colors.get(node, 'white')\n",
    "        s.node(node, label, shape='box', style='filled', fillcolor=color)\n",
    "    \n",
    "# 添加带有标签和颜色的边\n",
    "for index, row in edges_df.iterrows():\n",
    "    end_node_color = node_colors.get(row['终点'], 'black')  # 获取终点节点的颜色\n",
    "    dot.edge(row['起点'], row['终点'], label=row['指标'], color=end_node_color)\n",
    "\n",
    "# 保存图\n",
    "dot.format = 'png'\n",
    "dot.render('/Volumes/文枢工作空间/资产配置/新开城旧车交付/复盘/user_activity_analysis.png', view=True)"
   ]
  },
  {
   "cell_type": "code",
   "execution_count": 9,
   "metadata": {},
   "outputs": [],
   "source": [
    "node = '重新激活用户'\n",
    "label = f\"{node}\\n{nodes_df[nodes_df['节点'] == node]['备注'].values[0]}\\n{nodes_df[nodes_df['节点'] == node]['数据'].values[0]}\""
   ]
  },
  {
   "cell_type": "code",
   "execution_count": 10,
   "metadata": {},
   "outputs": [
    {
     "data": {
      "text/html": [
       "<div>\n",
       "<style scoped>\n",
       "    .dataframe tbody tr th:only-of-type {\n",
       "        vertical-align: middle;\n",
       "    }\n",
       "\n",
       "    .dataframe tbody tr th {\n",
       "        vertical-align: top;\n",
       "    }\n",
       "\n",
       "    .dataframe thead th {\n",
       "        text-align: right;\n",
       "    }\n",
       "</style>\n",
       "<table border=\"1\" class=\"dataframe\">\n",
       "  <thead>\n",
       "    <tr style=\"text-align: right;\">\n",
       "      <th></th>\n",
       "      <th>节点</th>\n",
       "      <th>数据</th>\n",
       "      <th>备注</th>\n",
       "    </tr>\n",
       "  </thead>\n",
       "  <tbody>\n",
       "    <tr>\n",
       "      <th>0</th>\n",
       "      <td>当前用户</td>\n",
       "      <td>12538</td>\n",
       "      <td>(今日活跃且过去7天内至少活跃1次)</td>\n",
       "    </tr>\n",
       "    <tr>\n",
       "      <th>1</th>\n",
       "      <td>重新激活用户</td>\n",
       "      <td>5034</td>\n",
       "      <td>(首次回访)</td>\n",
       "    </tr>\n",
       "    <tr>\n",
       "      <th>2</th>\n",
       "      <td>复活用户</td>\n",
       "      <td>2030</td>\n",
       "      <td>(首次回访)</td>\n",
       "    </tr>\n",
       "    <tr>\n",
       "      <th>3</th>\n",
       "      <td>新用户</td>\n",
       "      <td>4253</td>\n",
       "      <td>(首次使用应用)</td>\n",
       "    </tr>\n",
       "    <tr>\n",
       "      <th>4</th>\n",
       "      <td>周活跃用户流失风险</td>\n",
       "      <td>52719</td>\n",
       "      <td>(今日不活跃，但过去1-6天活跃)</td>\n",
       "    </tr>\n",
       "    <tr>\n",
       "      <th>5</th>\n",
       "      <td>月活跃用户流失风险</td>\n",
       "      <td>137192</td>\n",
       "      <td>(今日不活跃，过去1-6天不活跃，但过去7-29天活跃)</td>\n",
       "    </tr>\n",
       "    <tr>\n",
       "      <th>6</th>\n",
       "      <td>流失用户</td>\n",
       "      <td>277857</td>\n",
       "      <td>(今日及过去29天不活跃)</td>\n",
       "    </tr>\n",
       "  </tbody>\n",
       "</table>\n",
       "</div>"
      ],
      "text/plain": [
       "          节点      数据                            备注\n",
       "0       当前用户   12538            (今日活跃且过去7天内至少活跃1次)\n",
       "1     重新激活用户    5034                        (首次回访)\n",
       "2       复活用户    2030                        (首次回访)\n",
       "3        新用户    4253                      (首次使用应用)\n",
       "4  周活跃用户流失风险   52719             (今日不活跃，但过去1-6天活跃)\n",
       "5  月活跃用户流失风险  137192  (今日不活跃，过去1-6天不活跃，但过去7-29天活跃)\n",
       "6       流失用户  277857                 (今日及过去29天不活跃)"
      ]
     },
     "execution_count": 10,
     "metadata": {},
     "output_type": "execute_result"
    }
   ],
   "source": [
    "nodes_df"
   ]
  },
  {
   "cell_type": "code",
   "execution_count": 11,
   "metadata": {},
   "outputs": [],
   "source": [
    "edges_df['指标'] = edges_df['metric_name'].astype(str)+':'+edges_df['metric_value'].astype(str)+'%'"
   ]
  },
  {
   "cell_type": "code",
   "execution_count": 12,
   "metadata": {},
   "outputs": [],
   "source": [
    "for node in ['重新激活用户', '新用户', '复活用户']:\n",
    "        label = f\"{node}\\n{nodes_df[nodes_df['节点'] == node]['备注'].values[0]}\\n{nodes_df[nodes_df['节点'] == node]['数据'].values[0]}\"\n",
    "        color = node_colors.get(node, 'white')\n",
    "        s.node(node, label, shape='box', style='filled', fillcolor=color)"
   ]
  }
 ],
 "metadata": {
  "kernelspec": {
   "display_name": "Python 3",
   "language": "python",
   "name": "python3"
  },
  "language_info": {
   "codemirror_mode": {
    "name": "ipython",
    "version": 3
   },
   "file_extension": ".py",
   "mimetype": "text/x-python",
   "name": "python",
   "nbconvert_exporter": "python",
   "pygments_lexer": "ipython3",
   "version": "3.9.5"
  },
  "orig_nbformat": 4
 },
 "nbformat": 4,
 "nbformat_minor": 2
}
